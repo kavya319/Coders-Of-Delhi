{
 "cells": [
  {
   "cell_type": "code",
   "execution_count": 6,
   "id": "0caab6ed-3319-4b9b-a249-d674ec70cbc6",
   "metadata": {},
   "outputs": [],
   "source": [
    "import json"
   ]
  },
  {
   "cell_type": "code",
   "execution_count": 19,
   "id": "ec8eadc1-fba8-4c3a-868f-b22ab50e2178",
   "metadata": {},
   "outputs": [],
   "source": [
    "def load_data(filename):\n",
    "    with open(filename, \"r\") as f:\n",
    "        data = json.load(f)\n",
    "        return data"
   ]
  },
  {
   "cell_type": "code",
   "execution_count": 23,
   "id": "183b7c41-568d-4477-b93c-8e34551f000f",
   "metadata": {},
   "outputs": [],
   "source": [
    "data = load_data(\"data.json\")"
   ]
  },
  {
   "cell_type": "code",
   "execution_count": 29,
   "id": "d8d00775-601c-4dd4-82ee-393712cc4ffe",
   "metadata": {},
   "outputs": [
    {
     "data": {
      "text/plain": [
       "{'users': [{'id': 1, 'name': 'Amit', 'friends': [2, 3], 'liked_pages': [101]},\n",
       "  {'id': 2, 'name': 'Priya', 'friends': [1, 4], 'liked_pages': [102]},\n",
       "  {'id': 3, 'name': 'Rahul', 'friends': [1], 'liked_pages': [101, 103]},\n",
       "  {'id': 4, 'name': 'Sara', 'friends': [2], 'liked_pages': [104]}],\n",
       " 'pages': [{'id': 101, 'name': 'Python Developers'},\n",
       "  {'id': 102, 'name': 'Data Science Enthusiasts'},\n",
       "  {'id': 103, 'name': 'AI & ML Community'},\n",
       "  {'id': 104, 'name': 'Web Dev Hub'}]}"
      ]
     },
     "execution_count": 29,
     "metadata": {},
     "output_type": "execute_result"
    }
   ],
   "source": [
    "data "
   ]
  },
  {
   "cell_type": "code",
   "execution_count": 45,
   "id": "202c9579-83bc-4e96-9d3d-8816a923b74a",
   "metadata": {},
   "outputs": [
    {
     "data": {
      "text/plain": [
       "dict"
      ]
     },
     "execution_count": 45,
     "metadata": {},
     "output_type": "execute_result"
    }
   ],
   "source": [
    "type(data)"
   ]
  },
  {
   "cell_type": "code",
   "execution_count": 53,
   "id": "f72650d8-a4a9-4f50-b1f7-954a783a4c36",
   "metadata": {},
   "outputs": [
    {
     "name": "stdout",
     "output_type": "stream",
     "text": [
      "users and their connections\n",
      "\n",
      "ID:1- Amit is friends with: [2, 3] and liked pages are [101]\n",
      "ID:2- Priya is friends with: [1, 4] and liked pages are [102]\n",
      "ID:3- Rahul is friends with: [1] and liked pages are [101, 103]\n",
      "ID:4- Sara is friends with: [2] and liked pages are [104]\n",
      "pages information\n",
      "101: Python Developers\n",
      "102: Data Science Enthusiasts\n",
      "103: AI & ML Community\n",
      "104: Web Dev Hub\n"
     ]
    }
   ],
   "source": [
    "def display_users(data):\n",
    "    print(\"users and their connections\\n\")\n",
    "    for user in data['users']:\n",
    "        print(f\"ID:{user['id']}- {user['name']} is friends with: {user['friends']} and liked pages are {user['liked_pages']}\")\n",
    "    \n",
    "    print(\"pages information\")\n",
    "    for page in data['pages']:\n",
    "        print(f\"{page['id']}: {page['name']}\")\n",
    "display_users(data) "
   ]
  },
  {
   "cell_type": "code",
   "execution_count": null,
   "id": "1b1ecf46-3c14-46b6-8f1b-24cbd834db6c",
   "metadata": {},
   "outputs": [],
   "source": []
  }
 ],
 "metadata": {
  "kernelspec": {
   "display_name": "Python [conda env:base] *",
   "language": "python",
   "name": "conda-base-py"
  },
  "language_info": {
   "codemirror_mode": {
    "name": "ipython",
    "version": 3
   },
   "file_extension": ".py",
   "mimetype": "text/x-python",
   "name": "python",
   "nbconvert_exporter": "python",
   "pygments_lexer": "ipython3",
   "version": "3.12.7"
  }
 },
 "nbformat": 4,
 "nbformat_minor": 5
}
