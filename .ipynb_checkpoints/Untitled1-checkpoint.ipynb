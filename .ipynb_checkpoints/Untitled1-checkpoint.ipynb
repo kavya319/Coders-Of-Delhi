{
 "cells": [
  {
   "cell_type": "markdown",
   "id": "c4acb31c-6581-4015-90eb-baaae5986490",
   "metadata": {},
   "source": [
    "Our next Task is to :\n",
    "1) Handle missing values\n",
    "2) Remove duplicate or inconsistent data\n",
    "3) standardize the data format"
   ]
  },
  {
   "cell_type": "code",
   "execution_count": 20,
   "id": "94b645bb-c648-4974-b40f-f78e820a2835",
   "metadata": {},
   "outputs": [
    {
     "name": "stdout",
     "output_type": "stream",
     "text": [
      "data has been cleaned succesfully\n"
     ]
    }
   ],
   "source": [
    "import json\n",
    "\n",
    "def clean_data(data):\n",
    "    # remove user with missing name\n",
    "    data[\"users\"] = [user for user in data[\"users\"] if user[\"name\"].strip()]\n",
    "# to remove duplicates friend\n",
    "    for user in data[\"users\"]:\n",
    "        user['friends'] = list(set(user['friends']))\n",
    "\n",
    "    # remove inactive users\n",
    "    data['users'] = [user for user in data['users'] if user['friends'] or user['liked_pages']]\n",
    "\n",
    "    # remove duplicates pages \n",
    "    unique_pages = {}\n",
    "    for page in data['pages']:\n",
    "        unique_pages[page['id']] = page\n",
    "        data['pages'] = list(unique_pages.values())\n",
    "    \n",
    "    return data                            # function for cleaning the dat\n",
    "\n",
    "# load the data\n",
    "\n",
    "data = json.load(open(\"data2.json\"))\n",
    "data = clean_data(data)      # function for calling the data\n",
    "\n",
    "\n",
    "json.dump(data,open(\"cleaned_data2.json\", \"w\"), indent=4)\n",
    "print(\"data has been cleaned succesfully\")\n"
   ]
  }
 ],
 "metadata": {
  "kernelspec": {
   "display_name": "Python [conda env:base] *",
   "language": "python",
   "name": "conda-base-py"
  },
  "language_info": {
   "codemirror_mode": {
    "name": "ipython",
    "version": 3
   },
   "file_extension": ".py",
   "mimetype": "text/x-python",
   "name": "python",
   "nbconvert_exporter": "python",
   "pygments_lexer": "ipython3",
   "version": "3.12.7"
  }
 },
 "nbformat": 4,
 "nbformat_minor": 5
}
