import json

def load_data(filename):
    with open(filename, "r") as file:
        return json.load(file)

def find_people_you_may_know(user_id, data):
    user_friends = {}
    
    # Create a mapping of users and their friends
    for user in data["users"]:
        user_friends[user["id"]] = set(user["friends"])

    # If user is not in the database, return an empty list
    if user_id not in user_friends:
        return []
    
    direct_friends = user_friends[user_id]
    suggestions = {}
    
    # Find mutual friends
    for friend in direct_friends:
        for mutual in user_friends[friend]:
            if mutual != user_id and mutual not in direct_friends:
                suggestions[mutual] = suggestions.get(mutual, 0) + 1

    # Sort by mutual friend count (descending order)
    sorted_suggestions = sorted(suggestions.items(), key=lambda x: x[1], reverse=True)
    
    return [user for user, _ in sorted_suggestions]

# Load data and find recommendations
data = load_data("massive_data.json")
user_id = 3
recommendations = find_people_you_may_know(user_id, data)
print(f"People You May Know for User {user_id}: {recommendations}")



