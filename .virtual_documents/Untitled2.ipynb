import json


#function to load the json data
def lpad_data(filename):



