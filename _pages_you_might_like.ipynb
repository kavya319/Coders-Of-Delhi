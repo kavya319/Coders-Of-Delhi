{
 "cells": [
  {
   "cell_type": "code",
   "execution_count": 3,
   "id": "e7029e90-2bec-45aa-ae22-7b0bd674f355",
   "metadata": {},
   "outputs": [],
   "source": [
    "import json"
   ]
  },
  {
   "cell_type": "code",
   "execution_count": 29,
   "id": "dd9afb3f-3943-44d2-ae9e-765254a96ee2",
   "metadata": {},
   "outputs": [
    {
     "name": "stdout",
     "output_type": "stream",
     "text": [
      "[101, 105, 108]\n"
     ]
    }
   ],
   "source": [
    "import json\n",
    "\n",
    "# This function loads JSON data from a file\n",
    "def load_data(filename):\n",
    "    with open(filename, \"r\") as f:\n",
    "        return json.load(f)\n",
    "\n",
    "# This function finds pages a user might like based on common interests\n",
    "def find_pages_you_might_like(user_id, data):\n",
    "    # Dictionary to store users' interactions with pages\n",
    "    user_pages = {}\n",
    "    for user in data['users']:\n",
    "        user_pages[user['id']] = set(user['liked_pages'])\n",
    "\n",
    "    # If the user is not found, return an empty list\n",
    "    if user_id not in user_pages:\n",
    "        return []\n",
    "\n",
    "    user_liked_pages = user_pages[user_id]\n",
    "    page_suggestion = {}\n",
    "\n",
    "    for other_user, pages in user_pages.items():\n",
    "        if other_user != user_id:\n",
    "            shared_pages = user_liked_pages.intersection(pages)\n",
    "            if shared_pages: # Only proceed if there are shared pages\n",
    "                for page in pages:\n",
    "                    if page not in user_liked_pages:\n",
    "                        page_suggestion[page] = page_suggestion.get(page, 0) + len(shared_pages)\n",
    "\n",
    "    # Sort the pages by their suggestion score in descending order\n",
    "    sorted_pages = sorted(page_suggestion.items(), key=lambda x: x[1], reverse=True)\n",
    "\n",
    "    return [page_id for page_id, _ in sorted_pages]\n",
    "\n",
    "# Assume 'massive_data.json' exists and has the correct structure\n",
    "data = load_data(\"massive_data.json\")\n",
    "user_id = 2\n",
    "page_recommendation = find_pages_you_might_like(user_id, data)\n",
    "print(page_recommendation)"
   ]
  },
  {
   "cell_type": "code",
   "execution_count": null,
   "id": "9c7bddd6-73c6-42a3-aba5-0a48c9e22129",
   "metadata": {},
   "outputs": [],
   "source": []
  }
 ],
 "metadata": {
  "kernelspec": {
   "display_name": "Python [conda env:base] *",
   "language": "python",
   "name": "conda-base-py"
  },
  "language_info": {
   "codemirror_mode": {
    "name": "ipython",
    "version": 3
   },
   "file_extension": ".py",
   "mimetype": "text/x-python",
   "name": "python",
   "nbconvert_exporter": "python",
   "pygments_lexer": "ipython3",
   "version": "3.12.7"
  }
 },
 "nbformat": 4,
 "nbformat_minor": 5
}
